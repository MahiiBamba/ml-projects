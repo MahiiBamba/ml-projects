{
 "cells": [
  {
   "cell_type": "code",
   "execution_count": 2,
   "id": "b667d3b4-7a03-419e-b450-348eb42859f9",
   "metadata": {},
   "outputs": [
    {
     "name": "stdout",
     "output_type": "stream",
     "text": [
      "Requirement already satisfied: opencv-python in c:\\users\\hp\\miniconda3\\envs\\jupyter_env\\lib\\site-packages (4.11.0.86)\n",
      "Requirement already satisfied: numpy>=1.21.2 in c:\\users\\hp\\miniconda3\\envs\\jupyter_env\\lib\\site-packages (from opencv-python) (2.2.5)\n",
      "Note: you may need to restart the kernel to use updated packages.\n"
     ]
    }
   ],
   "source": [
    "pip install opencv-python"
   ]
  },
  {
   "cell_type": "code",
   "execution_count": 18,
   "id": "73470129-7cbf-402c-be18-4a2d018744ef",
   "metadata": {},
   "outputs": [
    {
     "name": "stdout",
     "output_type": "stream",
     "text": [
      "Collecting matplotlib\n",
      "  Downloading matplotlib-3.10.3-cp310-cp310-win_amd64.whl.metadata (11 kB)\n",
      "Collecting contourpy>=1.0.1 (from matplotlib)\n",
      "  Downloading contourpy-1.3.2-cp310-cp310-win_amd64.whl.metadata (5.5 kB)\n",
      "Collecting cycler>=0.10 (from matplotlib)\n",
      "  Using cached cycler-0.12.1-py3-none-any.whl.metadata (3.8 kB)\n",
      "Collecting fonttools>=4.22.0 (from matplotlib)\n",
      "  Downloading fonttools-4.58.4-cp310-cp310-win_amd64.whl.metadata (108 kB)\n",
      "Collecting kiwisolver>=1.3.1 (from matplotlib)\n",
      "  Downloading kiwisolver-1.4.8-cp310-cp310-win_amd64.whl.metadata (6.3 kB)\n",
      "Requirement already satisfied: numpy>=1.23 in c:\\users\\hp\\miniconda3\\envs\\jupyter_env\\lib\\site-packages (from matplotlib) (2.2.5)\n",
      "Requirement already satisfied: packaging>=20.0 in c:\\users\\hp\\miniconda3\\envs\\jupyter_env\\lib\\site-packages (from matplotlib) (24.2)\n",
      "Collecting pillow>=8 (from matplotlib)\n",
      "  Downloading pillow-11.3.0-cp310-cp310-win_amd64.whl.metadata (9.2 kB)\n",
      "Collecting pyparsing>=2.3.1 (from matplotlib)\n",
      "  Using cached pyparsing-3.2.3-py3-none-any.whl.metadata (5.0 kB)\n",
      "Requirement already satisfied: python-dateutil>=2.7 in c:\\users\\hp\\miniconda3\\envs\\jupyter_env\\lib\\site-packages (from matplotlib) (2.9.0.post0)\n",
      "Requirement already satisfied: six>=1.5 in c:\\users\\hp\\miniconda3\\envs\\jupyter_env\\lib\\site-packages (from python-dateutil>=2.7->matplotlib) (1.17.0)\n",
      "Downloading matplotlib-3.10.3-cp310-cp310-win_amd64.whl (8.1 MB)\n",
      "   ---------------------------------------- 0.0/8.1 MB ? eta -:--:--\n",
      "   ---------------------------------------- 0.0/8.1 MB ? eta -:--:--\n",
      "   ---------------------------------------- 0.0/8.1 MB ? eta -:--:--\n",
      "   - -------------------------------------- 0.3/8.1 MB ? eta -:--:--\n",
      "   - -------------------------------------- 0.3/8.1 MB ? eta -:--:--\n",
      "   -- ------------------------------------- 0.5/8.1 MB 493.7 kB/s eta 0:00:16\n",
      "   -- ------------------------------------- 0.5/8.1 MB 493.7 kB/s eta 0:00:16\n",
      "   -- ------------------------------------- 0.5/8.1 MB 493.7 kB/s eta 0:00:16\n",
      "   --- ------------------------------------ 0.8/8.1 MB 508.5 kB/s eta 0:00:15\n",
      "   --- ------------------------------------ 0.8/8.1 MB 508.5 kB/s eta 0:00:15\n",
      "   --- ------------------------------------ 0.8/8.1 MB 508.5 kB/s eta 0:00:15\n",
      "   ----- ---------------------------------- 1.0/8.1 MB 493.4 kB/s eta 0:00:15\n",
      "   ----- ---------------------------------- 1.0/8.1 MB 493.4 kB/s eta 0:00:15\n",
      "   ------ --------------------------------- 1.3/8.1 MB 516.3 kB/s eta 0:00:14\n",
      "   ------ --------------------------------- 1.3/8.1 MB 516.3 kB/s eta 0:00:14\n",
      "   ------- -------------------------------- 1.6/8.1 MB 521.0 kB/s eta 0:00:13\n",
      "   ------- -------------------------------- 1.6/8.1 MB 521.0 kB/s eta 0:00:13\n",
      "   --------- ------------------------------ 1.8/8.1 MB 518.9 kB/s eta 0:00:12\n",
      "   --------- ------------------------------ 1.8/8.1 MB 518.9 kB/s eta 0:00:12\n",
      "   ---------- ----------------------------- 2.1/8.1 MB 529.0 kB/s eta 0:00:12\n",
      "   ---------- ----------------------------- 2.1/8.1 MB 529.0 kB/s eta 0:00:12\n",
      "   ----------- ---------------------------- 2.4/8.1 MB 545.6 kB/s eta 0:00:11\n",
      "   ----------- ---------------------------- 2.4/8.1 MB 545.6 kB/s eta 0:00:11\n",
      "   ------------- -------------------------- 2.6/8.1 MB 553.0 kB/s eta 0:00:10\n",
      "   ------------- -------------------------- 2.6/8.1 MB 553.0 kB/s eta 0:00:10\n",
      "   -------------- ------------------------- 2.9/8.1 MB 568.6 kB/s eta 0:00:10\n",
      "   -------------- ------------------------- 2.9/8.1 MB 568.6 kB/s eta 0:00:10\n",
      "   --------------- ------------------------ 3.1/8.1 MB 571.3 kB/s eta 0:00:09\n",
      "   ---------------- ----------------------- 3.4/8.1 MB 586.9 kB/s eta 0:00:08\n",
      "   ---------------- ----------------------- 3.4/8.1 MB 586.9 kB/s eta 0:00:08\n",
      "   ------------------ --------------------- 3.7/8.1 MB 600.8 kB/s eta 0:00:08\n",
      "   ------------------- -------------------- 3.9/8.1 MB 616.5 kB/s eta 0:00:07\n",
      "   ------------------- -------------------- 3.9/8.1 MB 616.5 kB/s eta 0:00:07\n",
      "   -------------------- ------------------- 4.2/8.1 MB 626.0 kB/s eta 0:00:07\n",
      "   ---------------------- ----------------- 4.5/8.1 MB 636.1 kB/s eta 0:00:06\n",
      "   ---------------------- ----------------- 4.5/8.1 MB 636.1 kB/s eta 0:00:06\n",
      "   ----------------------- ---------------- 4.7/8.1 MB 639.5 kB/s eta 0:00:06\n",
      "   ------------------------ --------------- 5.0/8.1 MB 652.2 kB/s eta 0:00:05\n",
      "   ------------------------ --------------- 5.0/8.1 MB 652.2 kB/s eta 0:00:05\n",
      "   -------------------------- ------------- 5.2/8.1 MB 664.1 kB/s eta 0:00:05\n",
      "   --------------------------- ------------ 5.5/8.1 MB 676.5 kB/s eta 0:00:04\n",
      "   ---------------------------- ----------- 5.8/8.1 MB 688.1 kB/s eta 0:00:04\n",
      "   ----------------------------- ---------- 6.0/8.1 MB 699.0 kB/s eta 0:00:03\n",
      "   ------------------------------- -------- 6.3/8.1 MB 710.6 kB/s eta 0:00:03\n",
      "   -------------------------------- ------- 6.6/8.1 MB 724.2 kB/s eta 0:00:03\n",
      "   --------------------------------- ------ 6.8/8.1 MB 734.5 kB/s eta 0:00:02\n",
      "   ----------------------------------- ---- 7.1/8.1 MB 744.4 kB/s eta 0:00:02\n",
      "   ------------------------------------ --- 7.3/8.1 MB 758.8 kB/s eta 0:00:01\n",
      "   ------------------------------------- -- 7.6/8.1 MB 771.3 kB/s eta 0:00:01\n",
      "   ---------------------------------------  7.9/8.1 MB 786.0 kB/s eta 0:00:01\n",
      "   ---------------------------------------  7.9/8.1 MB 786.0 kB/s eta 0:00:01\n",
      "   ---------------------------------------- 8.1/8.1 MB 777.1 kB/s eta 0:00:00\n",
      "Downloading contourpy-1.3.2-cp310-cp310-win_amd64.whl (221 kB)\n",
      "Using cached cycler-0.12.1-py3-none-any.whl (8.3 kB)\n",
      "Downloading fonttools-4.58.4-cp310-cp310-win_amd64.whl (2.2 MB)\n",
      "   ---------------------------------------- 0.0/2.2 MB ? eta -:--:--\n",
      "   ---------------------------------------- 0.0/2.2 MB ? eta -:--:--\n",
      "   --------- ------------------------------ 0.5/2.2 MB 1.5 MB/s eta 0:00:02\n",
      "   -------------- ------------------------- 0.8/2.2 MB 1.5 MB/s eta 0:00:01\n",
      "   ------------------ --------------------- 1.0/2.2 MB 1.5 MB/s eta 0:00:01\n",
      "   ----------------------- ---------------- 1.3/2.2 MB 1.6 MB/s eta 0:00:01\n",
      "   -------------------------------- ------- 1.8/2.2 MB 1.5 MB/s eta 0:00:01\n",
      "   ------------------------------------- -- 2.1/2.2 MB 1.6 MB/s eta 0:00:01\n",
      "   ---------------------------------------- 2.2/2.2 MB 1.5 MB/s eta 0:00:00\n",
      "Downloading kiwisolver-1.4.8-cp310-cp310-win_amd64.whl (71 kB)\n",
      "Downloading pillow-11.3.0-cp310-cp310-win_amd64.whl (7.0 MB)\n",
      "   ---------------------------------------- 0.0/7.0 MB ? eta -:--:--\n",
      "   ---------------------------------------- 0.0/7.0 MB ? eta -:--:--\n",
      "   - -------------------------------------- 0.3/7.0 MB ? eta -:--:--\n",
      "   --- ------------------------------------ 0.5/7.0 MB 1.3 MB/s eta 0:00:06\n",
      "   ---- ----------------------------------- 0.8/7.0 MB 1.3 MB/s eta 0:00:05\n",
      "   ------- -------------------------------- 1.3/7.0 MB 1.5 MB/s eta 0:00:04\n",
      "   --------- ------------------------------ 1.6/7.0 MB 1.5 MB/s eta 0:00:04\n",
      "   ---------- ----------------------------- 1.8/7.0 MB 1.5 MB/s eta 0:00:04\n",
      "   ------------ --------------------------- 2.1/7.0 MB 1.5 MB/s eta 0:00:04\n",
      "   ------------- -------------------------- 2.4/7.0 MB 1.5 MB/s eta 0:00:04\n",
      "   ---------------- ----------------------- 2.9/7.0 MB 1.5 MB/s eta 0:00:03\n",
      "   ------------------ --------------------- 3.1/7.0 MB 1.5 MB/s eta 0:00:03\n",
      "   ------------------- -------------------- 3.4/7.0 MB 1.5 MB/s eta 0:00:03\n",
      "   ---------------------- ----------------- 3.9/7.0 MB 1.5 MB/s eta 0:00:02\n",
      "   ---------------------- ----------------- 3.9/7.0 MB 1.5 MB/s eta 0:00:02\n",
      "   ------------------------- -------------- 4.5/7.0 MB 1.5 MB/s eta 0:00:02\n",
      "   --------------------------- ------------ 4.7/7.0 MB 1.5 MB/s eta 0:00:02\n",
      "   ---------------------------- ----------- 5.0/7.0 MB 1.5 MB/s eta 0:00:02\n",
      "   ------------------------------ --------- 5.2/7.0 MB 1.5 MB/s eta 0:00:02\n",
      "   --------------------------------- ------ 5.8/7.0 MB 1.5 MB/s eta 0:00:01\n",
      "   ---------------------------------- ----- 6.0/7.0 MB 1.5 MB/s eta 0:00:01\n",
      "   ------------------------------------ --- 6.3/7.0 MB 1.5 MB/s eta 0:00:01\n",
      "   ---------------------------------------  6.8/7.0 MB 1.5 MB/s eta 0:00:01\n",
      "   ---------------------------------------- 7.0/7.0 MB 1.5 MB/s eta 0:00:00\n",
      "Using cached pyparsing-3.2.3-py3-none-any.whl (111 kB)\n",
      "Installing collected packages: pyparsing, pillow, kiwisolver, fonttools, cycler, contourpy, matplotlib\n",
      "\n",
      "   ---------------------------------------- 0/7 [pyparsing]\n",
      "   ----- ---------------------------------- 1/7 [pillow]\n",
      "   ----- ---------------------------------- 1/7 [pillow]\n",
      "   ----- ---------------------------------- 1/7 [pillow]\n",
      "   ----- ---------------------------------- 1/7 [pillow]\n",
      "   ----- ---------------------------------- 1/7 [pillow]\n",
      "   ----- ---------------------------------- 1/7 [pillow]\n",
      "   ----- ---------------------------------- 1/7 [pillow]\n",
      "   ----- ---------------------------------- 1/7 [pillow]\n",
      "   ----------------- ---------------------- 3/7 [fonttools]\n",
      "   ----------------- ---------------------- 3/7 [fonttools]\n",
      "   ----------------- ---------------------- 3/7 [fonttools]\n",
      "   ----------------- ---------------------- 3/7 [fonttools]\n",
      "   ----------------- ---------------------- 3/7 [fonttools]\n",
      "   ----------------- ---------------------- 3/7 [fonttools]\n",
      "   ----------------- ---------------------- 3/7 [fonttools]\n",
      "   ----------------- ---------------------- 3/7 [fonttools]\n",
      "   ----------------- ---------------------- 3/7 [fonttools]\n",
      "   ----------------- ---------------------- 3/7 [fonttools]\n",
      "   ----------------- ---------------------- 3/7 [fonttools]\n",
      "   ----------------- ---------------------- 3/7 [fonttools]\n",
      "   ----------------- ---------------------- 3/7 [fonttools]\n",
      "   ----------------- ---------------------- 3/7 [fonttools]\n",
      "   ----------------- ---------------------- 3/7 [fonttools]\n",
      "   ----------------- ---------------------- 3/7 [fonttools]\n",
      "   ----------------- ---------------------- 3/7 [fonttools]\n",
      "   ----------------- ---------------------- 3/7 [fonttools]\n",
      "   ----------------- ---------------------- 3/7 [fonttools]\n",
      "   ----------------- ---------------------- 3/7 [fonttools]\n",
      "   ----------------- ---------------------- 3/7 [fonttools]\n",
      "   ----------------- ---------------------- 3/7 [fonttools]\n",
      "   ----------------- ---------------------- 3/7 [fonttools]\n",
      "   ----------------- ---------------------- 3/7 [fonttools]\n",
      "   ----------------- ---------------------- 3/7 [fonttools]\n",
      "   ----------------- ---------------------- 3/7 [fonttools]\n",
      "   ----------------- ---------------------- 3/7 [fonttools]\n",
      "   ----------------- ---------------------- 3/7 [fonttools]\n",
      "   ----------------- ---------------------- 3/7 [fonttools]\n",
      "   ----------------- ---------------------- 3/7 [fonttools]\n",
      "   ----------------- ---------------------- 3/7 [fonttools]\n",
      "   ----------------- ---------------------- 3/7 [fonttools]\n",
      "   ---------------------------- ----------- 5/7 [contourpy]\n",
      "   ---------------------------- ----------- 5/7 [contourpy]\n",
      "   ---------------------------------- ----- 6/7 [matplotlib]\n",
      "   ---------------------------------- ----- 6/7 [matplotlib]\n",
      "   ---------------------------------- ----- 6/7 [matplotlib]\n",
      "   ---------------------------------- ----- 6/7 [matplotlib]\n",
      "   ---------------------------------- ----- 6/7 [matplotlib]\n",
      "   ---------------------------------- ----- 6/7 [matplotlib]\n",
      "   ---------------------------------- ----- 6/7 [matplotlib]\n",
      "   ---------------------------------- ----- 6/7 [matplotlib]\n",
      "   ---------------------------------- ----- 6/7 [matplotlib]\n",
      "   ---------------------------------- ----- 6/7 [matplotlib]\n",
      "   ---------------------------------- ----- 6/7 [matplotlib]\n",
      "   ---------------------------------- ----- 6/7 [matplotlib]\n",
      "   ---------------------------------- ----- 6/7 [matplotlib]\n",
      "   ---------------------------------- ----- 6/7 [matplotlib]\n",
      "   ---------------------------------- ----- 6/7 [matplotlib]\n",
      "   ---------------------------------- ----- 6/7 [matplotlib]\n",
      "   ---------------------------------- ----- 6/7 [matplotlib]\n",
      "   ---------------------------------- ----- 6/7 [matplotlib]\n",
      "   ---------------------------------- ----- 6/7 [matplotlib]\n",
      "   ---------------------------------- ----- 6/7 [matplotlib]\n",
      "   ---------------------------------- ----- 6/7 [matplotlib]\n",
      "   ---------------------------------- ----- 6/7 [matplotlib]\n",
      "   ---------------------------------- ----- 6/7 [matplotlib]\n",
      "   ---------------------------------- ----- 6/7 [matplotlib]\n",
      "   ---------------------------------- ----- 6/7 [matplotlib]\n",
      "   ---------------------------------- ----- 6/7 [matplotlib]\n",
      "   ---------------------------------- ----- 6/7 [matplotlib]\n",
      "   ---------------------------------- ----- 6/7 [matplotlib]\n",
      "   ---------------------------------- ----- 6/7 [matplotlib]\n",
      "   ---------------------------------- ----- 6/7 [matplotlib]\n",
      "   ---------------------------------- ----- 6/7 [matplotlib]\n",
      "   ---------------------------------- ----- 6/7 [matplotlib]\n",
      "   ---------------------------------- ----- 6/7 [matplotlib]\n",
      "   ---------------------------------- ----- 6/7 [matplotlib]\n",
      "   ---------------------------------- ----- 6/7 [matplotlib]\n",
      "   ---------------------------------- ----- 6/7 [matplotlib]\n",
      "   ---------------------------------- ----- 6/7 [matplotlib]\n",
      "   ---------------------------------- ----- 6/7 [matplotlib]\n",
      "   ---------------------------------- ----- 6/7 [matplotlib]\n",
      "   ---------------------------------- ----- 6/7 [matplotlib]\n",
      "   ---------------------------------- ----- 6/7 [matplotlib]\n",
      "   ---------------------------------- ----- 6/7 [matplotlib]\n",
      "   ---------------------------------- ----- 6/7 [matplotlib]\n",
      "   ---------------------------------- ----- 6/7 [matplotlib]\n",
      "   ---------------------------------- ----- 6/7 [matplotlib]\n",
      "   ---------------------------------- ----- 6/7 [matplotlib]\n",
      "   ---------------------------------- ----- 6/7 [matplotlib]\n",
      "   ---------------------------------- ----- 6/7 [matplotlib]\n",
      "   ---------------------------------- ----- 6/7 [matplotlib]\n",
      "   ---------------------------------- ----- 6/7 [matplotlib]\n",
      "   ---------------------------------- ----- 6/7 [matplotlib]\n",
      "   ---------------------------------------- 7/7 [matplotlib]\n",
      "\n",
      "Successfully installed contourpy-1.3.2 cycler-0.12.1 fonttools-4.58.4 kiwisolver-1.4.8 matplotlib-3.10.3 pillow-11.3.0 pyparsing-3.2.3\n",
      "Note: you may need to restart the kernel to use updated packages.\n"
     ]
    }
   ],
   "source": [
    "pip install matplotlib"
   ]
  },
  {
   "cell_type": "code",
   "execution_count": 1,
   "id": "199e7d25-a148-43e9-ba2f-10d34d5a1f16",
   "metadata": {},
   "outputs": [],
   "source": [
    "import cv2\n",
    "import matplotlib.pyplot as plt\n",
    "%matplotlib inline"
   ]
  },
  {
   "cell_type": "code",
   "execution_count": 2,
   "id": "5437a68b-d482-4a3c-9699-313a2111ee40",
   "metadata": {},
   "outputs": [],
   "source": [
    "face_cascade = cv2.CascadeClassifier(cv2.data.haarcascades+'haarcascade_frontalface_default.xml')"
   ]
  },
  {
   "cell_type": "code",
   "execution_count": 3,
   "id": "f7d7da84-b010-4d13-b01a-ebbb826b8748",
   "metadata": {},
   "outputs": [],
   "source": [
    "img = cv2.imread('test image.jpg')"
   ]
  },
  {
   "cell_type": "code",
   "execution_count": 15,
   "id": "d795c11e-5040-4e9c-ab00-afb06f67f620",
   "metadata": {},
   "outputs": [],
   "source": [
    "rgb_img = cv2.cvtColor(img, cv2.COLOR_BGR2RGB)"
   ]
  },
  {
   "cell_type": "code",
   "execution_count": 16,
   "id": "056970fd-af18-4c39-94e5-0811b1a2ebb3",
   "metadata": {},
   "outputs": [
    {
     "data": {
      "text/plain": [
       "<matplotlib.image.AxesImage at 0x210f223ba90>"
      ]
     },
     "execution_count": 16,
     "metadata": {},
     "output_type": "execute_result"
    }
   ],
   "source": [
    "plt.imshow(rgb_img)"
   ]
  },
  {
   "cell_type": "code",
   "execution_count": 6,
   "id": "45caf03d-0133-44a9-b2ca-b4131af82af0",
   "metadata": {},
   "outputs": [],
   "source": [
    "image = cv2.resize(img, (400,600))"
   ]
  },
  {
   "cell_type": "code",
   "execution_count": 8,
   "id": "310e846b-6180-4dd7-a13e-4ba877f60110",
   "metadata": {},
   "outputs": [
    {
     "data": {
      "text/plain": [
       "<matplotlib.image.AxesImage at 0x210cec7e3b0>"
      ]
     },
     "execution_count": 8,
     "metadata": {},
     "output_type": "execute_result"
    }
   ],
   "source": [
    "gray = cv2.cvtColor(image, cv2.COLOR_BGR2GRAY)\n",
    "plt.imshow(gray, cmap='gray')"
   ]
  },
  {
   "cell_type": "code",
   "execution_count": 9,
   "id": "6fec9368-ad8e-413b-9d90-643cc69a0165",
   "metadata": {},
   "outputs": [],
   "source": [
    "faces = face_cascade.detectMultiScale(gray)"
   ]
  },
  {
   "cell_type": "code",
   "execution_count": 10,
   "id": "1dc7d635-bc35-435d-932b-6e0e495dc1fd",
   "metadata": {},
   "outputs": [
    {
     "data": {
      "text/plain": [
       "5"
      ]
     },
     "execution_count": 10,
     "metadata": {},
     "output_type": "execute_result"
    }
   ],
   "source": [
    "len(faces)"
   ]
  },
  {
   "cell_type": "code",
   "execution_count": 11,
   "id": "277adf64-89ad-4b7c-b0b2-56bb934c6ed0",
   "metadata": {},
   "outputs": [],
   "source": [
    "for(x,y,w,h) in faces:\n",
    "    cv2.rectangle(image, (x,y),(x+w, y+h),(0,255,0),2)"
   ]
  },
  {
   "cell_type": "code",
   "execution_count": 12,
   "id": "5523b77c-f6cb-4968-82e8-7af91d927730",
   "metadata": {},
   "outputs": [],
   "source": [
    "\n",
    "display_img = cv2.resize(image, (640,480))  \n"
   ]
  },
  {
   "cell_type": "code",
   "execution_count": 13,
   "id": "40cd1f09-9986-4ead-92c6-6b0c01de9b12",
   "metadata": {},
   "outputs": [],
   "source": [
    "cv2.imshow('Detected Faces', display_img)\n",
    "cv2.waitKey(0)\n",
    "cv2.destroyAllWindows()"
   ]
  },
  {
   "cell_type": "code",
   "execution_count": null,
   "id": "77910c78-3517-4f52-a9e4-334546a59114",
   "metadata": {},
   "outputs": [],
   "source": []
  }
 ],
 "metadata": {
  "kernelspec": {
   "display_name": "Python (jupyter_env)",
   "language": "python",
   "name": "jupyter_env"
  },
  "language_info": {
   "codemirror_mode": {
    "name": "ipython",
    "version": 3
   },
   "file_extension": ".py",
   "mimetype": "text/x-python",
   "name": "python",
   "nbconvert_exporter": "python",
   "pygments_lexer": "ipython3",
   "version": "3.10.16"
  }
 },
 "nbformat": 4,
 "nbformat_minor": 5
}
