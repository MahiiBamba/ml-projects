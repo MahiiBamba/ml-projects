{
 "cells": [
  {
   "cell_type": "markdown",
   "id": "c9094408",
   "metadata": {},
   "source": [
    "**Face Detection in Static Images (Haar)**"
   ]
  },
  {
   "cell_type": "code",
   "execution_count": 1,
   "id": "199e7d25-a148-43e9-ba2f-10d34d5a1f16",
   "metadata": {},
   "outputs": [],
   "source": [
    "import cv2\n",
    "import matplotlib.pyplot as plt\n",
    "%matplotlib inline"
   ]
  },
  {
   "cell_type": "code",
   "execution_count": 2,
   "id": "5437a68b-d482-4a3c-9699-313a2111ee40",
   "metadata": {},
   "outputs": [],
   "source": [
    "face_cascade = cv2.CascadeClassifier(cv2.data.haarcascades+'haarcascade_frontalface_default.xml')"
   ]
  },
  {
   "cell_type": "code",
   "execution_count": 35,
   "id": "f7d7da84-b010-4d13-b01a-ebbb826b8748",
   "metadata": {},
   "outputs": [],
   "source": [
    "img = cv2.imread('test_2.jpg')"
   ]
  },
  {
   "cell_type": "code",
   "execution_count": 36,
   "id": "d795c11e-5040-4e9c-ab00-afb06f67f620",
   "metadata": {},
   "outputs": [],
   "source": [
    "rgb_img = cv2.cvtColor(img, cv2.COLOR_BGR2RGB)"
   ]
  },
  {
   "cell_type": "code",
   "execution_count": 37,
   "id": "056970fd-af18-4c39-94e5-0811b1a2ebb3",
   "metadata": {},
   "outputs": [
    {
     "data": {
      "text/plain": [
       "<matplotlib.image.AxesImage at 0x17fa180eb90>"
      ]
     },
     "execution_count": 37,
     "metadata": {},
     "output_type": "execute_result"
    }
   ],
   "source": [
    "plt.imshow(rgb_img)"
   ]
  },
  {
   "cell_type": "code",
   "execution_count": 38,
   "id": "45caf03d-0133-44a9-b2ca-b4131af82af0",
   "metadata": {},
   "outputs": [],
   "source": [
    "image = cv2.resize(img, (400,600))"
   ]
  },
  {
   "cell_type": "code",
   "execution_count": 39,
   "id": "310e846b-6180-4dd7-a13e-4ba877f60110",
   "metadata": {},
   "outputs": [
    {
     "data": {
      "text/plain": [
       "<matplotlib.image.AxesImage at 0x17fa180e8c0>"
      ]
     },
     "execution_count": 39,
     "metadata": {},
     "output_type": "execute_result"
    }
   ],
   "source": [
    "gray = cv2.cvtColor(image, cv2.COLOR_BGR2GRAY)\n",
    "plt.imshow(gray, cmap='gray')"
   ]
  },
  {
   "cell_type": "code",
   "execution_count": 40,
   "id": "6fec9368-ad8e-413b-9d90-643cc69a0165",
   "metadata": {},
   "outputs": [],
   "source": [
    "faces = face_cascade.detectMultiScale(gray)"
   ]
  },
  {
   "cell_type": "code",
   "execution_count": 41,
   "id": "1dc7d635-bc35-435d-932b-6e0e495dc1fd",
   "metadata": {},
   "outputs": [
    {
     "data": {
      "text/plain": [
       "3"
      ]
     },
     "execution_count": 41,
     "metadata": {},
     "output_type": "execute_result"
    }
   ],
   "source": [
    "len(faces)"
   ]
  },
  {
   "cell_type": "code",
   "execution_count": 42,
   "id": "277adf64-89ad-4b7c-b0b2-56bb934c6ed0",
   "metadata": {},
   "outputs": [],
   "source": [
    "for(x,y,w,h) in faces:\n",
    "    cv2.rectangle(image, (x,y),(x+w, y+h),(0,255,0),2)"
   ]
  },
  {
   "cell_type": "code",
   "execution_count": 43,
   "id": "5523b77c-f6cb-4968-82e8-7af91d927730",
   "metadata": {},
   "outputs": [],
   "source": [
    "\n",
    "display_img = cv2.resize(image, (640,480))  \n"
   ]
  },
  {
   "cell_type": "code",
   "execution_count": 44,
   "id": "40cd1f09-9986-4ead-92c6-6b0c01de9b12",
   "metadata": {},
   "outputs": [],
   "source": [
    "cv2.imshow('Detected Faces', display_img)\n",
    "cv2.waitKey(0)\n",
    "cv2.destroyAllWindows()"
   ]
  },
  {
   "cell_type": "markdown",
   "id": "11203a6a",
   "metadata": {},
   "source": [
    "**Face Detection with DNN (Deep Learning Model)**"
   ]
  },
  {
   "cell_type": "code",
   "execution_count": 48,
   "id": "abb7e34e",
   "metadata": {},
   "outputs": [],
   "source": [
    "modelFile = \"res10_300x300_ssd_iter_140000.caffemodel\"\n",
    "configFile = \"deploy.prototxt\""
   ]
  },
  {
   "cell_type": "code",
   "execution_count": 49,
   "id": "3bef2e00",
   "metadata": {},
   "outputs": [],
   "source": [
    "net = cv2.dnn.readNetFromCaffe(configFile, modelFile)"
   ]
  },
  {
   "cell_type": "code",
   "execution_count": 50,
   "id": "a16eec97",
   "metadata": {},
   "outputs": [],
   "source": [
    "image = cv2.imread('test_1.jpg')"
   ]
  },
  {
   "cell_type": "code",
   "execution_count": 51,
   "id": "225f0d6f",
   "metadata": {},
   "outputs": [],
   "source": [
    "scale = 800 / image.shape[1]\n",
    "image = cv2.resize(image, None, fx=scale, fy=scale)\n"
   ]
  },
  {
   "cell_type": "code",
   "execution_count": 52,
   "id": "344628e0",
   "metadata": {},
   "outputs": [],
   "source": [
    "(h, w) = image.shape[:2]"
   ]
  },
  {
   "cell_type": "code",
   "execution_count": 53,
   "id": "b55ad0a9",
   "metadata": {},
   "outputs": [],
   "source": [
    "blob = cv2.dnn.blobFromImage(cv2.resize(image, (300, 300)), 1.0,\n",
    "                             (300, 300), (104.0, 177.0, 123.0))"
   ]
  },
  {
   "cell_type": "code",
   "execution_count": 54,
   "id": "fc0b97c6",
   "metadata": {},
   "outputs": [],
   "source": [
    "net.setInput(blob)\n",
    "detections = net.forward()"
   ]
  },
  {
   "cell_type": "code",
   "execution_count": null,
   "id": "6917ddd8",
   "metadata": {},
   "outputs": [],
   "source": [
    "for i in range(detections.shape[2]):\n",
    "    confidence = detections[0, 0, i, 2]\n",
    "    \n",
    "    if confidence > 0.5: \n",
    "        box = detections[0, 0, i, 3:7] * [w, h, w, h]\n",
    "        (x1, y1, x2, y2) = box.astype(\"int\")\n",
    "        \n",
    "        cv2.rectangle(image, (x1, y1), (x2, y2), (0, 255, 0), 2)\n",
    "        text = f\"{confidence*100:.1f}%\"\n",
    "        cv2.putText(image, text, (x1, y1 - 10),\n",
    "                    cv2.FONT_HERSHEY_SIMPLEX, 0.5, (0, 255, 0), 2)\n"
   ]
  },
  {
   "cell_type": "code",
   "execution_count": 56,
   "id": "16598f96",
   "metadata": {},
   "outputs": [],
   "source": [
    "resized = cv2.resize(image, (500,500))\n",
    "cv2.imshow(\"DNN Face Detection\", resized)\n",
    "cv2.waitKey(0)\n",
    "cv2.destroyAllWindows()"
   ]
  },
  {
   "cell_type": "markdown",
   "id": "2cb5ba0a",
   "metadata": {},
   "source": [
    " **Live Face Detection from Webcam**"
   ]
  },
  {
   "cell_type": "code",
   "execution_count": 2,
   "id": "d214eef9",
   "metadata": {},
   "outputs": [],
   "source": [
    "face_cascade = cv2.CascadeClassifier(cv2.data.haarcascades + 'haarcascade_frontalface_default.xml')\n"
   ]
  },
  {
   "cell_type": "code",
   "execution_count": null,
   "id": "2817ca07",
   "metadata": {},
   "outputs": [],
   "source": [
    "cap = cv2.VideoCapture(0) \n",
    "\n",
    "while True:\n",
    "    ret, frame = cap.read()\n",
    "    if not ret:\n",
    "        break\n",
    "\n",
    "    gray = cv2.cvtColor(frame, cv2.COLOR_BGR2GRAY)\n",
    "\n",
    "    faces = face_cascade.detectMultiScale(\n",
    "        gray,\n",
    "        scaleFactor=1.1,\n",
    "        minNeighbors=5,\n",
    "        minSize=(30, 30)\n",
    "    )\n",
    "    \n",
    "    for (x, y, w, h) in faces:\n",
    "        cv2.rectangle(frame, (x, y), (x+w, y+h), (0, 255, 0), 2)\n",
    "\n",
    "    \n",
    "    cv2.imshow(\"Live Face Detection\", frame)\n",
    "\n",
    "    \n",
    "    if cv2.waitKey(1) & 0xFF == ord('q'):\n",
    "        break\n",
    "\n",
    "\n",
    "cap.release()\n",
    "\n",
    "\n",
    "cv2.imshow(\"Live Face Detection\", frame)  \n",
    "cv2.waitKey(0)\n",
    "cv2.destroyAllWindows()"
   ]
  },
  {
   "cell_type": "code",
   "execution_count": null,
   "id": "7f7a7404",
   "metadata": {},
   "outputs": [],
   "source": []
  }
 ],
 "metadata": {
  "kernelspec": {
   "display_name": "jupyter_env",
   "language": "python",
   "name": "python3"
  },
  "language_info": {
   "codemirror_mode": {
    "name": "ipython",
    "version": 3
   },
   "file_extension": ".py",
   "mimetype": "text/x-python",
   "name": "python",
   "nbconvert_exporter": "python",
   "pygments_lexer": "ipython3",
   "version": "3.10.16"
  }
 },
 "nbformat": 4,
 "nbformat_minor": 5
}
